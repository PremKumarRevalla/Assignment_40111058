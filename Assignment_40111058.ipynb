{
 "cells": [
  {
   "cell_type": "markdown",
   "id": "6e326c7c",
   "metadata": {},
   "source": [
    "Prem Kumar Revalla \n",
    "40111058\n",
    "BE CSE D3"
   ]
  },
  {
   "cell_type": "markdown",
   "id": "571923e2",
   "metadata": {},
   "source": [
    "1. What is 7 to the power of 4?\n"
   ]
  },
  {
   "cell_type": "code",
   "execution_count": 2,
   "id": "92befcf7",
   "metadata": {},
   "outputs": [
    {
     "data": {
      "text/plain": [
       "2401"
      ]
     },
     "execution_count": 2,
     "metadata": {},
     "output_type": "execute_result"
    }
   ],
   "source": [
    "7 ** 4"
   ]
  },
  {
   "cell_type": "markdown",
   "id": "3e963218",
   "metadata": {},
   "source": [
    "2.  Split this string into a list. \n",
    "    s = \"Hi there Sam!\""
   ]
  },
  {
   "cell_type": "code",
   "execution_count": 3,
   "id": "2b298e26",
   "metadata": {},
   "outputs": [
    {
     "data": {
      "text/plain": [
       "['Hi', 'there', 'Sam!']"
      ]
     },
     "execution_count": 3,
     "metadata": {},
     "output_type": "execute_result"
    }
   ],
   "source": [
    "s = \"Hi there Sam!\"\n",
    "s.split()"
   ]
  },
  {
   "cell_type": "markdown",
   "id": "36bcb4b1",
   "metadata": {},
   "source": [
    "3.Given the variables\n",
    "    planet = \"Earth\"\n",
    "    diameter = 12742\n",
    "Use .format() to print the following string\n",
    "The diameter of Earth is 12742 kilometers."
   ]
  },
  {
   "cell_type": "code",
   "execution_count": 6,
   "id": "5630d690",
   "metadata": {},
   "outputs": [
    {
     "name": "stdout",
     "output_type": "stream",
     "text": [
      "The diameter of Earth is 12742 kilometers.\n"
     ]
    }
   ],
   "source": [
    "planet = \"Earth\"\n",
    "diameter = 12742\n",
    "\n",
    "print(\"The diameter of {} is {} kilometers.\".format(planet,diameter))"
   ]
  },
  {
   "cell_type": "markdown",
   "id": "f5700873",
   "metadata": {},
   "source": [
    "4.Given this nested list, use indexing to grab the word \"hello\n",
    "    lst = [1,2,[3,4],[5,[100,200,['hello']],23,11],1,7]"
   ]
  },
  {
   "cell_type": "code",
   "execution_count": 7,
   "id": "c7ecdf0b",
   "metadata": {},
   "outputs": [
    {
     "data": {
      "text/plain": [
       "'hello'"
      ]
     },
     "execution_count": 7,
     "metadata": {},
     "output_type": "execute_result"
    }
   ],
   "source": [
    "lst = [1,2,[3,4],[5,[100,200,['hello']],23,11],1,7]\n",
    "lst[3][1][2][0]"
   ]
  },
  {
   "cell_type": "markdown",
   "id": "954d8d37",
   "metadata": {},
   "source": [
    "5. Given this nested dictionary grab the word \"hello\". Be prepared, this will be annoying/tricky\n",
    "    d = {'k1':[1,2,3,{'tricky':['oh','man','inception',{'target':[1,2,3,'hello']}]}]}"
   ]
  },
  {
   "cell_type": "code",
   "execution_count": 8,
   "id": "c6daf532",
   "metadata": {},
   "outputs": [
    {
     "data": {
      "text/plain": [
       "'hello'"
      ]
     },
     "execution_count": 8,
     "metadata": {},
     "output_type": "execute_result"
    }
   ],
   "source": [
    " d = {'k1':[1,2,3,{'tricky':['oh','man','inception',{'target':[1,2,3,'hello']}]}]}\n",
    "d['k1'][3]['tricky'][3]['target'][3]"
   ]
  },
  {
   "cell_type": "markdown",
   "id": "604e521d",
   "metadata": {},
   "source": [
    "6.What is the main difference between a tuple and a list?"
   ]
  },
  {
   "cell_type": "markdown",
   "id": "e00f8be1",
   "metadata": {},
   "source": [
    "ans) Lists are mutable and Tuples are immutable."
   ]
  },
  {
   "cell_type": "markdown",
   "id": "c5f4b7bb",
   "metadata": {},
   "source": [
    "7.Create a function that grabs the email website domain from a string in the form : user@domain.com\n",
    "    So for example, passing \"user@domain.com\" would return: domain.com"
   ]
  },
  {
   "cell_type": "code",
   "execution_count": 11,
   "id": "94491d6c",
   "metadata": {},
   "outputs": [
    {
     "data": {
      "text/plain": [
       "'domain.com'"
      ]
     },
     "execution_count": 11,
     "metadata": {},
     "output_type": "execute_result"
    }
   ],
   "source": [
    "def domainGet(email):\n",
    "    return email.split('@')[-1]\n",
    "domainGet('user@domain.com')"
   ]
  },
  {
   "cell_type": "markdown",
   "id": "33f891bd",
   "metadata": {},
   "source": [
    "8. Create a basic function that returns True if the word 'dog' is contained in the input string. \n",
    "    Don't worry about edge cases like a punctuation being attached to the word dog, but do account for capitalization."
   ]
  },
  {
   "cell_type": "code",
   "execution_count": 13,
   "id": "a235b1c7",
   "metadata": {},
   "outputs": [
    {
     "data": {
      "text/plain": [
       "True"
      ]
     },
     "execution_count": 13,
     "metadata": {},
     "output_type": "execute_result"
    }
   ],
   "source": [
    "def findDog(st):\n",
    "    return 'dog' in st.lower().split()\n",
    "findDog('Is there a dog here?')"
   ]
  },
  {
   "cell_type": "markdown",
   "id": "fb1f670f",
   "metadata": {},
   "source": [
    "9. Use lambda expressions and the filter() function to filter out words from a list that don't start with the letter 's'.\n",
    "    For example:\n",
    "    seq = ['soup','dog','salad','cat','great']\n",
    "    should be filtered down to:    ['soup','salad']"
   ]
  },
  {
   "cell_type": "code",
   "execution_count": 14,
   "id": "58e40acc",
   "metadata": {},
   "outputs": [
    {
     "data": {
      "text/plain": [
       "['soup', 'salad']"
      ]
     },
     "execution_count": 14,
     "metadata": {},
     "output_type": "execute_result"
    }
   ],
   "source": [
    "seq = ['soup','dog','salad','cat','great']\n",
    "list(filter(lambda word: word[0]=='s',seq))"
   ]
  },
  {
   "cell_type": "markdown",
   "id": "152e621f",
   "metadata": {},
   "source": [
    "10. You are driving a little too fast, and a police officer stops you. Write a function\n",
    "      to return one of 3 possible results: \"No ticket\", \"Small ticket\", or \"Big Ticket\". \n",
    "      If your speed is 60 or less, the result is \"No Ticket\". If speed is between 61 \n",
    "      and 80 inclusive, the result is \"Small Ticket\". If speed is 81 or more, the result is \"Big    Ticket\".\n",
    "     Unless it is your birthday (encoded as a boolean value in the parameters of the function) --\n",
    "     on your birthday, your speed can be 5 higher in all cases. "
   ]
  },
  {
   "cell_type": "code",
   "execution_count": 19,
   "id": "6fc0a454",
   "metadata": {},
   "outputs": [],
   "source": [
    "def caught_speeding(speed, is_birthday):\n",
    "    if is_birthday:\n",
    "        speeding = speed - 5\n",
    "    else:\n",
    "        speeding = speed\n",
    "    \n",
    "    if speeding > 80:\n",
    "        return 'Big Ticket'\n",
    "    elif speeding > 60:\n",
    "        return 'Small Ticket'\n",
    "    else:\n",
    "        return 'No Ticket'"
   ]
  },
  {
   "cell_type": "code",
   "execution_count": 20,
   "id": "d67b978a",
   "metadata": {},
   "outputs": [
    {
     "data": {
      "text/plain": [
       "'Small Ticket'"
      ]
     },
     "execution_count": 20,
     "metadata": {},
     "output_type": "execute_result"
    }
   ],
   "source": [
    "caught_speeding(81,True)"
   ]
  },
  {
   "cell_type": "code",
   "execution_count": 21,
   "id": "ffdfd558",
   "metadata": {},
   "outputs": [
    {
     "data": {
      "text/plain": [
       "'Big Ticket'"
      ]
     },
     "execution_count": 21,
     "metadata": {},
     "output_type": "execute_result"
    }
   ],
   "source": [
    "caught_speeding(81,False)"
   ]
  },
  {
   "cell_type": "code",
   "execution_count": null,
   "id": "f17e1137",
   "metadata": {},
   "outputs": [],
   "source": []
  }
 ],
 "metadata": {
  "kernelspec": {
   "display_name": "Python 3 (ipykernel)",
   "language": "python",
   "name": "python3"
  },
  "language_info": {
   "codemirror_mode": {
    "name": "ipython",
    "version": 3
   },
   "file_extension": ".py",
   "mimetype": "text/x-python",
   "name": "python",
   "nbconvert_exporter": "python",
   "pygments_lexer": "ipython3",
   "version": "3.9.12"
  }
 },
 "nbformat": 4,
 "nbformat_minor": 5
}
